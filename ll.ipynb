{
 "cells": [
  {
   "cell_type": "code",
   "execution_count": 1,
   "metadata": {},
   "outputs": [
    {
     "name": "stdout",
     "output_type": "stream",
     "text": [
      "5\n",
      "18\n",
      "3\n",
      "4\n"
     ]
    }
   ],
   "source": [
    "def count_pairs(number_list: list, power: int, distance: int) -> int:\n",
    "    pairs = 0\n",
    "    \n",
    "    for i in range(len(number_list)):\n",
    "        a = number_list[i] ** power\n",
    "         \n",
    "        if number_list[i] % power == 0:\n",
    "            for j in range(i + 1, len(number_list)):\n",
    "                if abs(a - number_list[j] ** power) <= distance:\n",
    "                    pairs += 1\n",
    "        else:\n",
    "            for j in range(i + 1, len(number_list)):\n",
    "                if number_list[j] % power == 0 and abs(a - number_list[j] ** power) <= distance:\n",
    "                    pairs += 1\n",
    "                    \n",
    "    return pairs\n",
    "\n",
    "print(count_pairs([1, 2, 3, 4, 6, 10], 3, 200))\n",
    "print(count_pairs([5, 1, 7, 4, 10, 12, 8], 2, 400))\n",
    "print(count_pairs([10, 20, 30, 40], 2, 700))\n",
    "print(count_pairs([30, 40, 50, 4, 6, 9, 11], 3, 1000))"
   ]
  },
  {
   "cell_type": "code",
   "execution_count": 59,
   "metadata": {},
   "outputs": [
    {
     "name": "stdout",
     "output_type": "stream",
     "text": [
      "\n"
     ]
    }
   ],
   "source": [
    "def find_most_frequent_substring(text: str, length: int) -> str:\n",
    "    \n",
    "    if length > len(text):\n",
    "        return \"\"\n",
    "    \n",
    "    memo = {}\n",
    "    vowels = ['a', 'e', 'i', 'o', 'u']\n",
    "    \n",
    "    for i in range(len(text) - length + 1):\n",
    "        s = text[i:i + length]\n",
    "        if any(vowel in s for vowel in vowels):\n",
    "            if s in memo:\n",
    "                memo[s] += 1\n",
    "            else:\n",
    "                memo[s] = 1\n",
    "    \n",
    "    result = []\n",
    "    max_f = max(memo.values())\n",
    "    while max_f in memo.values():\n",
    "        max_s = max(memo, key=memo.get)\n",
    "        result.append(max_s)\n",
    "        memo.pop(max_s)\n",
    "    \n",
    "    result.sort()\n",
    "    return result[0]\n",
    "\n",
    "print(find_most_frequent_substring(\"abd\", 4))\n",
    "# print(find_most_frequent_substring(\"cciccibbabba\", 3))\n",
    "# print(find_most_frequent_substring(\"kmnapkmnapsokmnkmnap\", 3))\n",
    "# print(find_most_frequent_substring(\"aksskaaskakaskasakakss\", 2))\n",
    "# print(find_most_frequent_substring(\"abcdefghijk\", 5))\n",
    "# print(find_most_frequent_substring(\"thisisalongsentencealongwithsomeaaaa\", 4))"
   ]
  },
  {
   "cell_type": "code",
   "execution_count": 56,
   "metadata": {},
   "outputs": [
    {
     "name": "stdout",
     "output_type": "stream",
     "text": [
      "True\n",
      "False\n",
      "False\n"
     ]
    }
   ],
   "source": [
    "def check_perfect_list(numbers: list, distance: int) -> bool:    \n",
    "    n = len(numbers)\n",
    "    if n < 2:\n",
    "        return True\n",
    "    if n == 2:\n",
    "        return True if abs(numbers[0] - numbers[1]) <= distance else False\n",
    "    if abs(numbers[-1] - numbers[-2]) <= distance:\n",
    "        return True\n",
    "    \n",
    "    for i in range(n - 2):\n",
    "        if abs(numbers[i] - numbers[i + 1]) > distance or abs(numbers[i] - numbers[i + 2]) > distance:\n",
    "            return False\n",
    "    \n",
    "    return True\n",
    "\n",
    "print(check_perfect_list([1, 4, 3, 2, 3], 3))\n",
    "print(check_perfect_list([10, 2, 11], 4))\n",
    "print(check_perfect_list([5, 6, 13, 15, 7, 10, 40], 10))"
   ]
  },
  {
   "cell_type": "code",
   "execution_count": 11,
   "metadata": {},
   "outputs": [
    {
     "name": "stdout",
     "output_type": "stream",
     "text": [
      "<class 'str'>\n"
     ]
    }
   ],
   "source": [
    "d = {}\n",
    "d['a'] = 10\n",
    "d['b'] = 12\n",
    "print(type(max(d)))"
   ]
  }
 ],
 "metadata": {
  "kernelspec": {
   "display_name": "Python 3",
   "language": "python",
   "name": "python3"
  },
  "language_info": {
   "codemirror_mode": {
    "name": "ipython",
    "version": 3
   },
   "file_extension": ".py",
   "mimetype": "text/x-python",
   "name": "python",
   "nbconvert_exporter": "python",
   "pygments_lexer": "ipython3",
   "version": "3.10.10"
  },
  "orig_nbformat": 4
 },
 "nbformat": 4,
 "nbformat_minor": 2
}
